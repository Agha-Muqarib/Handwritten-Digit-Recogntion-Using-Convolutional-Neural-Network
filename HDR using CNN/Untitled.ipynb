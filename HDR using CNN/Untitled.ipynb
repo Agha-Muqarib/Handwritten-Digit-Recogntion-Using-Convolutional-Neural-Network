{
 "cells": [
  {
   "cell_type": "markdown",
   "id": "01bc107b",
   "metadata": {},
   "source": [
    "# Step : 01 - Collect the Images"
   ]
  },
  {
   "cell_type": "code",
   "execution_count": 10,
   "id": "4e9b376d",
   "metadata": {},
   "outputs": [
    {
     "name": "stdout",
     "output_type": "stream",
     "text": [
      "Requirement already satisfied: pyscreenshot in c:\\users\\theengineerguyy\\anaconda3\\lib\\site-packages (3.0)\n",
      "Requirement already satisfied: mss in c:\\users\\theengineerguyy\\anaconda3\\lib\\site-packages (from pyscreenshot) (6.1.0)\n",
      "Requirement already satisfied: entrypoint2 in c:\\users\\theengineerguyy\\anaconda3\\lib\\site-packages (from pyscreenshot) (0.2.4)\n",
      "Requirement already satisfied: EasyProcess in c:\\users\\theengineerguyy\\anaconda3\\lib\\site-packages (from pyscreenshot) (0.3)\n",
      "Note: you may need to restart the kernel to use updated packages.\n"
     ]
    }
   ],
   "source": [
    "pip install pyscreenshot"
   ]
  },
  {
   "cell_type": "code",
   "execution_count": 9,
   "id": "1fb40ed1",
   "metadata": {},
   "outputs": [
    {
     "name": "stdout",
     "output_type": "stream",
     "text": [
      "Saved  0\n",
      "Clear Screen and ReDraw Image\n",
      "Saved  1\n",
      "Clear Screen and ReDraw Image\n",
      "Saved  2\n",
      "Clear Screen and ReDraw Image\n",
      "Saved  3\n",
      "Clear Screen and ReDraw Image\n",
      "Saved  4\n",
      "Clear Screen and ReDraw Image\n"
     ]
    }
   ],
   "source": [
    "import pyscreenshot as ImageGrab\n",
    "import time\n",
    "\n",
    "def screen_capture():\n",
    "    imageFolder=\"capturedImages/0/\"\n",
    "    for i in range(5):\n",
    "        time.sleep(5)\n",
    "        im = ImageGrab.grab(bbox=(60,170,400,550)) # cords are of top-left corner of the screen \n",
    "        \"\"\"This is done because when we draw image in a window (prolly paint) \n",
    "           and it should be in that top left corner to get detected \"\"\"\n",
    "        print(\"Saved \",i)\n",
    "        im.save(imageFolder+str(i)+'.png') # Saves images in capturedImages/0\n",
    "        print(\"Clear Screen and ReDraw Image\")\n",
    "\n",
    "screen_capture()\n",
    "    "
   ]
  },
  {
   "cell_type": "code",
   "execution_count": null,
   "id": "502f89cc",
   "metadata": {},
   "outputs": [],
   "source": []
  }
 ],
 "metadata": {
  "kernelspec": {
   "display_name": "Python 3",
   "language": "python",
   "name": "python3"
  },
  "language_info": {
   "codemirror_mode": {
    "name": "ipython",
    "version": 3
   },
   "file_extension": ".py",
   "mimetype": "text/x-python",
   "name": "python",
   "nbconvert_exporter": "python",
   "pygments_lexer": "ipython3",
   "version": "3.8.8"
  }
 },
 "nbformat": 4,
 "nbformat_minor": 5
}
